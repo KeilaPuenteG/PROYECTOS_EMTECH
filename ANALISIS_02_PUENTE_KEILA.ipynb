{
 "cells": [
  {
   "cell_type": "markdown",
   "metadata": {},
   "source": [
    "# PROYECTO 2\n",
    "\n",
    "# Introducción al Análisis de Datos\n"
   ]
  },
  {
   "cell_type": "markdown",
   "metadata": {},
   "source": [
    "**Introducción**\n",
    "\n",
    "Contar con una excelente estrategia operativa permite a las empresas coordinar a los diferentes departamentos de manera eficiente para lograr ofrecer un servicio de calidad y por ende tener clientes satisfechos e incluso la fidelidad de algunos. \n",
    "\n",
    "Synergy Logistics es una empresa dedicada a la intermediación de servicios de importación y exportación de diferentes productos. Actualmente la empresa cuenta con una base de datos que refleja las rutas más importantes que opera desde el año 2015, con su respectivo origen y destino, año, producto, modo de transporte y valor total.\n",
    "\n",
    "El propósito del presente código es generar un análisis que sirva para la estructuración de una estrategia operativa.\n",
    "\n"
   ]
  },
  {
   "cell_type": "markdown",
   "metadata": {},
   "source": [
    "### *IMPORTACIÓN DE DATOS*"
   ]
  },
  {
   "cell_type": "code",
   "execution_count": 1,
   "metadata": {},
   "outputs": [],
   "source": [
    "import pandas as pd\n",
    "pd.plotting.register_matplotlib_converters()\n",
    "import matplotlib.pyplot as plt\n",
    "import seaborn as sns\n",
    "filepath = 'synergy_logistics_database.csv'\n",
    "#el parse es para que me considere las fechas como tal y no como un texto\n",
    "base = pd.read_csv(filepath, index_col=\"register_id\", parse_dates = True)\n"
   ]
  },
  {
   "cell_type": "markdown",
   "metadata": {},
   "source": [
    "### *RUTAS DE IMPORTACIÓN Y EXPORTACIÓN*\n",
    "*Opción 1*\n",
    "\n",
    "#### Separando los datos necesarios para el análisis"
   ]
  },
  {
   "cell_type": "code",
   "execution_count": 2,
   "metadata": {},
   "outputs": [],
   "source": [
    "'''Se crean dos diccionarios, uno para las exportaciones y otro para importaciones en el cual la clave sea la ruta y los \n",
    "valores sean una lista que contenga en la primera posición la cantidad de veces que se usó (demandó) la ruta y en la \n",
    "segunda la suma del valor total'''\n",
    "\n",
    "exp_rutas = {}\n",
    "imp_rutas = {}\n",
    "\n",
    "#en el siguiente for se guardan los datos en los diccionarios\n",
    "for a,b,c,d,e in zip(base[\"origin\"], base[\"destination\"],base[\"transport_mode\"],base[\"total_value\"], base[\"direction\"]):\n",
    "    if e == \"Exports\":\n",
    "        #valida que la ruta no esté en el diccionario y si está se van haciendo las sumas de la cantidad de veces y el total\n",
    "        if (a,b,c) not in exp_rutas:\n",
    "            exp_rutas[a,b,c] = [1,d]\n",
    "        else:\n",
    "            exp_rutas[a,b,c] = [exp_rutas[a,b,c][0]+1, exp_rutas[a,b,c][1] + d]\n",
    "    else:\n",
    "        if e == \"Imports\":\n",
    "            if (a,b,c) not in imp_rutas:\n",
    "                imp_rutas[a,b,c] = [1,d]\n",
    "            else:\n",
    "                imp_rutas[a,b,c] = [imp_rutas[a,b,c][0]+1, imp_rutas[a,b,c][1] + d]\n"
   ]
  },
  {
   "cell_type": "code",
   "execution_count": 3,
   "metadata": {},
   "outputs": [],
   "source": [
    "'''Se crean una lista para importaciones y otra para exportaciones, los datos se obtienen del diccionario hecho \n",
    "anteriormente'''\n",
    "\n",
    "importaciones = []\n",
    "\n",
    "#se guardan en cada lista los datos \n",
    "for origen,destino,medio in imp_rutas.keys():\n",
    "    lista_imp = [origen,destino,medio, imp_rutas[origen,destino,medio][0], imp_rutas[origen,destino,medio][1]]\n",
    "    importaciones.append(lista_imp)\n",
    "\n",
    "exportaciones = []\n",
    "for origen,destino,medio in exp_rutas.keys():\n",
    "    lista_exp = [origen,destino,medio, exp_rutas[origen,destino,medio][0], exp_rutas[origen,destino,medio][1]]\n",
    "    exportaciones.append(lista_exp)\n",
    "    "
   ]
  },
  {
   "cell_type": "code",
   "execution_count": 4,
   "metadata": {},
   "outputs": [
    {
     "name": "stdout",
     "output_type": "stream",
     "text": [
      "        DIEZ RUTAS DE EXPORTACIÓN MÁS DEMANDADAS DE EXPORTACIONES\n"
     ]
    },
    {
     "data": {
      "text/html": [
       "<div>\n",
       "<style scoped>\n",
       "    .dataframe tbody tr th:only-of-type {\n",
       "        vertical-align: middle;\n",
       "    }\n",
       "\n",
       "    .dataframe tbody tr th {\n",
       "        vertical-align: top;\n",
       "    }\n",
       "\n",
       "    .dataframe thead th {\n",
       "        text-align: right;\n",
       "    }\n",
       "</style>\n",
       "<table border=\"1\" class=\"dataframe\">\n",
       "  <thead>\n",
       "    <tr style=\"text-align: right;\">\n",
       "      <th></th>\n",
       "      <th>Origen</th>\n",
       "      <th>Destino</th>\n",
       "      <th>Medio de Transporte</th>\n",
       "      <th># de demanda</th>\n",
       "    </tr>\n",
       "  </thead>\n",
       "  <tbody>\n",
       "    <tr>\n",
       "      <th>0</th>\n",
       "      <td>South Korea</td>\n",
       "      <td>Vietnam</td>\n",
       "      <td>Sea</td>\n",
       "      <td>497</td>\n",
       "    </tr>\n",
       "    <tr>\n",
       "      <th>1</th>\n",
       "      <td>USA</td>\n",
       "      <td>Netherlands</td>\n",
       "      <td>Sea</td>\n",
       "      <td>436</td>\n",
       "    </tr>\n",
       "    <tr>\n",
       "      <th>2</th>\n",
       "      <td>Netherlands</td>\n",
       "      <td>Belgium</td>\n",
       "      <td>Road</td>\n",
       "      <td>374</td>\n",
       "    </tr>\n",
       "    <tr>\n",
       "      <th>3</th>\n",
       "      <td>China</td>\n",
       "      <td>Mexico</td>\n",
       "      <td>Air</td>\n",
       "      <td>330</td>\n",
       "    </tr>\n",
       "    <tr>\n",
       "      <th>4</th>\n",
       "      <td>Japan</td>\n",
       "      <td>Brazil</td>\n",
       "      <td>Sea</td>\n",
       "      <td>306</td>\n",
       "    </tr>\n",
       "    <tr>\n",
       "      <th>5</th>\n",
       "      <td>Germany</td>\n",
       "      <td>France</td>\n",
       "      <td>Road</td>\n",
       "      <td>299</td>\n",
       "    </tr>\n",
       "    <tr>\n",
       "      <th>6</th>\n",
       "      <td>South Korea</td>\n",
       "      <td>Japan</td>\n",
       "      <td>Sea</td>\n",
       "      <td>279</td>\n",
       "    </tr>\n",
       "    <tr>\n",
       "      <th>7</th>\n",
       "      <td>Australia</td>\n",
       "      <td>Singapore</td>\n",
       "      <td>Sea</td>\n",
       "      <td>273</td>\n",
       "    </tr>\n",
       "    <tr>\n",
       "      <th>8</th>\n",
       "      <td>Canada</td>\n",
       "      <td>Mexico</td>\n",
       "      <td>Rail</td>\n",
       "      <td>261</td>\n",
       "    </tr>\n",
       "    <tr>\n",
       "      <th>9</th>\n",
       "      <td>China</td>\n",
       "      <td>Spain</td>\n",
       "      <td>Air</td>\n",
       "      <td>250</td>\n",
       "    </tr>\n",
       "  </tbody>\n",
       "</table>\n",
       "</div>"
      ],
      "text/plain": [
       "        Origen      Destino Medio de Transporte  # de demanda\n",
       "0  South Korea      Vietnam                 Sea           497\n",
       "1          USA  Netherlands                 Sea           436\n",
       "2  Netherlands      Belgium                Road           374\n",
       "3        China       Mexico                 Air           330\n",
       "4        Japan       Brazil                 Sea           306\n",
       "5      Germany       France                Road           299\n",
       "6  South Korea        Japan                 Sea           279\n",
       "7    Australia    Singapore                 Sea           273\n",
       "8       Canada       Mexico                Rail           261\n",
       "9        China        Spain                 Air           250"
      ]
     },
     "execution_count": 4,
     "metadata": {},
     "output_type": "execute_result"
    }
   ],
   "source": [
    "'''ya que se tienen las listas de las importaciones y exportaciones, se ordenan de acuerdo con la cantidad de veces que\n",
    "fueron demandadas'''\n",
    "\n",
    "importaciones.sort(reverse = True, key = lambda x:x[3])\n",
    "exportaciones.sort(reverse = True, key = lambda x:x[3])\n",
    "\n",
    "'''las listas se convierten a dataframe para obtener una mejor visualización de los datos'''\n",
    "\n",
    "mre = pd.DataFrame(exportaciones, columns=['Origen','Destino','Medio de Transporte','# de demanda', 'Valor Total'])\n",
    "top = mre.drop(['Valor Total'], axis = 1) #quitando lo última columna porque ese dato no es útil aquí\n",
    "print(\"        DIEZ RUTAS DE EXPORTACIÓN MÁS DEMANDADAS DE EXPORTACIONES\")\n",
    "top.head(10)\n"
   ]
  },
  {
   "cell_type": "code",
   "execution_count": 5,
   "metadata": {},
   "outputs": [
    {
     "name": "stdout",
     "output_type": "stream",
     "text": [
      "        DIEZ RUTAS MÁS DEMANDADAS DE IMPORTACIÓN\n"
     ]
    },
    {
     "data": {
      "text/html": [
       "<div>\n",
       "<style scoped>\n",
       "    .dataframe tbody tr th:only-of-type {\n",
       "        vertical-align: middle;\n",
       "    }\n",
       "\n",
       "    .dataframe tbody tr th {\n",
       "        vertical-align: top;\n",
       "    }\n",
       "\n",
       "    .dataframe thead th {\n",
       "        text-align: right;\n",
       "    }\n",
       "</style>\n",
       "<table border=\"1\" class=\"dataframe\">\n",
       "  <thead>\n",
       "    <tr style=\"text-align: right;\">\n",
       "      <th></th>\n",
       "      <th>Origen</th>\n",
       "      <th>Destino</th>\n",
       "      <th>Medio de Transporte</th>\n",
       "      <th># de demanda</th>\n",
       "    </tr>\n",
       "  </thead>\n",
       "  <tbody>\n",
       "    <tr>\n",
       "      <th>0</th>\n",
       "      <td>Singapore</td>\n",
       "      <td>Thailand</td>\n",
       "      <td>Sea</td>\n",
       "      <td>273</td>\n",
       "    </tr>\n",
       "    <tr>\n",
       "      <th>1</th>\n",
       "      <td>Germany</td>\n",
       "      <td>China</td>\n",
       "      <td>Sea</td>\n",
       "      <td>233</td>\n",
       "    </tr>\n",
       "    <tr>\n",
       "      <th>2</th>\n",
       "      <td>China</td>\n",
       "      <td>Japan</td>\n",
       "      <td>Air</td>\n",
       "      <td>210</td>\n",
       "    </tr>\n",
       "    <tr>\n",
       "      <th>3</th>\n",
       "      <td>Japan</td>\n",
       "      <td>Mexico</td>\n",
       "      <td>Sea</td>\n",
       "      <td>206</td>\n",
       "    </tr>\n",
       "    <tr>\n",
       "      <th>4</th>\n",
       "      <td>Malaysia</td>\n",
       "      <td>Thailand</td>\n",
       "      <td>Rail</td>\n",
       "      <td>195</td>\n",
       "    </tr>\n",
       "    <tr>\n",
       "      <th>5</th>\n",
       "      <td>China</td>\n",
       "      <td>Thailand</td>\n",
       "      <td>Road</td>\n",
       "      <td>145</td>\n",
       "    </tr>\n",
       "    <tr>\n",
       "      <th>6</th>\n",
       "      <td>Spain</td>\n",
       "      <td>Germany</td>\n",
       "      <td>Road</td>\n",
       "      <td>142</td>\n",
       "    </tr>\n",
       "    <tr>\n",
       "      <th>7</th>\n",
       "      <td>China</td>\n",
       "      <td>United Arab Emirates</td>\n",
       "      <td>Sea</td>\n",
       "      <td>114</td>\n",
       "    </tr>\n",
       "    <tr>\n",
       "      <th>8</th>\n",
       "      <td>Brazil</td>\n",
       "      <td>China</td>\n",
       "      <td>Sea</td>\n",
       "      <td>113</td>\n",
       "    </tr>\n",
       "    <tr>\n",
       "      <th>9</th>\n",
       "      <td>USA</td>\n",
       "      <td>Thailand</td>\n",
       "      <td>Sea</td>\n",
       "      <td>109</td>\n",
       "    </tr>\n",
       "  </tbody>\n",
       "</table>\n",
       "</div>"
      ],
      "text/plain": [
       "      Origen               Destino Medio de Transporte  # de demanda\n",
       "0  Singapore              Thailand                 Sea           273\n",
       "1    Germany                 China                 Sea           233\n",
       "2      China                 Japan                 Air           210\n",
       "3      Japan                Mexico                 Sea           206\n",
       "4   Malaysia              Thailand                Rail           195\n",
       "5      China              Thailand                Road           145\n",
       "6      Spain               Germany                Road           142\n",
       "7      China  United Arab Emirates                 Sea           114\n",
       "8     Brazil                 China                 Sea           113\n",
       "9        USA              Thailand                 Sea           109"
      ]
     },
     "execution_count": 5,
     "metadata": {},
     "output_type": "execute_result"
    }
   ],
   "source": [
    "mri = pd.DataFrame(importaciones, columns=['Origen','Destino','Medio de Transporte','# de demanda', 'Valor Total'])\n",
    "topi = mri.drop(['Valor Total'], axis = 1) #quitando lo última columna porque ese dato no es útil aquí\n",
    "print(\"        DIEZ RUTAS MÁS DEMANDADAS DE IMPORTACIÓN\")\n",
    "topi.head(10)\n"
   ]
  },
  {
   "cell_type": "markdown",
   "metadata": {},
   "source": [
    "**A continuación se creará una gráfica de barras para las mejores rutas, en lugar del nombre de las rutas en el eje x se estará usando el número de demanda ya que están ordenados de esa manera y para el eje y se estará utilizando el valor total que tiene acumulado cada ruta**"
   ]
  },
  {
   "cell_type": "code",
   "execution_count": 6,
   "metadata": {},
   "outputs": [
    {
     "data": {
      "text/plain": [
       "<matplotlib.axes._subplots.AxesSubplot at 0x22e0ccd4af0>"
      ]
     },
     "execution_count": 6,
     "metadata": {},
     "output_type": "execute_result"
    },
    {
     "data": {
      "image/png": "[encoded data removed]",
      "text/plain": [
       "<Figure size 432x288 with 1 Axes>"
      ]
     },
     "metadata": {
      "needs_background": "light"
     },
     "output_type": "display_data"
    }
   ],
   "source": [
    "mre.head(10).plot.bar(x='# de demanda', y='Valor Total')"
   ]
  },
  {
   "cell_type": "markdown",
   "metadata": {},
   "source": [
    "*Esta gráfica es sobre las 10 mejores rutas de exportación, el orden en el eje x es según su demanda, tal como se muestra en la tabla impresa anteriormente, se observa que el valor total de algunas rutas es mucho más alto y no se encuentran en los primeros lugares, por ejemplos la 330 y la 261.*"
   ]
  },
  {
   "cell_type": "code",
   "execution_count": 7,
   "metadata": {},
   "outputs": [
    {
     "data": {
      "text/plain": [
       "<matplotlib.axes._subplots.AxesSubplot at 0x22e0d4a9970>"
      ]
     },
     "execution_count": 7,
     "metadata": {},
     "output_type": "execute_result"
    },
    {
     "data": {
      "image/png": "[encoded data removed]",
      "text/plain": [
       "<Figure size 432x288 with 1 Axes>"
      ]
     },
     "metadata": {
      "needs_background": "light"
     },
     "output_type": "display_data"
    }
   ],
   "source": [
    "mri.head(10).plot.bar(x='# de demanda', y='Valor Total')"
   ]
  },
  {
   "cell_type": "markdown",
   "metadata": {},
   "source": [
    "*Esta gráfica es sobre las 10 mejores rutas de importación, el orden en el eje x es según su demanda, tal como se muestra en la tabla impresa anteriormente para importaciones, se observa que el valor total de algunas rutas es mucho más alto y no se encuentran en los primeros lugares, por ejemplos la 206 y la 195.*"
   ]
  },
  {
   "cell_type": "markdown",
   "metadata": {},
   "source": [
    "### ¿Le conviene implementar esa estrategia? ¿porqué?\n",
    "\n",
    "*A la empresa NO le conviene implementar esta estrategia basándose en la demanda de cada ruta, pues como se observa en las gráficas, el que sean más demandadas no implica que generen mayores ingresos*\n"
   ]
  },
  {
   "cell_type": "markdown",
   "metadata": {},
   "source": [
    "### *MEDIOS DE TRANSPORTE UTILIZADOS*\n",
    "*Opción 2*"
   ]
  },
  {
   "cell_type": "code",
   "execution_count": 8,
   "metadata": {},
   "outputs": [],
   "source": [
    "'''Se crea una lista de los únicos medios de transporte en la base de datos'''\n",
    "medio_transporte = list(base[\"transport_mode\"].unique())\n",
    "\n",
    "'''se crean unas listas que contengan esos únicos medios de transporte con un valor numérico para posteriormente \n",
    "llenarlos'''\n",
    "medio_exp = [[medio,0] for medio in medio_transporte]\n",
    "medio_imp = [[medio,0] for medio in medio_transporte]\n",
    "\n",
    "'''Los siguientes bucles for acumulan los valores totales obtenidos en importaciones y exportaciones para cada medio de \n",
    "transporte'''\n",
    "for medio in medio_transporte:\n",
    "    for lista in importaciones:\n",
    "        if lista[2] == medio:\n",
    "            medio_imp[medio_transporte.index(medio)][1] += lista[4]\n",
    "\n",
    "for medio in medio_transporte:\n",
    "    for lista in exportaciones:\n",
    "        if lista[2] == medio:\n",
    "            medio_exp[medio_transporte.index(medio)][1] += lista[4]\n"
   ]
  },
  {
   "cell_type": "code",
   "execution_count": 9,
   "metadata": {},
   "outputs": [
    {
     "name": "stdout",
     "output_type": "stream",
     "text": [
      "TRES MEDIOS DE TRANSPORTE MÁS IMPORTANTES EN EXPORTACIONES\n"
     ]
    },
    {
     "data": {
      "text/html": [
       "<div>\n",
       "<style scoped>\n",
       "    .dataframe tbody tr th:only-of-type {\n",
       "        vertical-align: middle;\n",
       "    }\n",
       "\n",
       "    .dataframe tbody tr th {\n",
       "        vertical-align: top;\n",
       "    }\n",
       "\n",
       "    .dataframe thead th {\n",
       "        text-align: right;\n",
       "    }\n",
       "</style>\n",
       "<table border=\"1\" class=\"dataframe\">\n",
       "  <thead>\n",
       "    <tr style=\"text-align: right;\">\n",
       "      <th></th>\n",
       "      <th>Medio de Transporte</th>\n",
       "      <th>Valor Total</th>\n",
       "    </tr>\n",
       "  </thead>\n",
       "  <tbody>\n",
       "    <tr>\n",
       "      <th>0</th>\n",
       "      <td>Sea</td>\n",
       "      <td>65592622000</td>\n",
       "    </tr>\n",
       "    <tr>\n",
       "      <th>1</th>\n",
       "      <td>Rail</td>\n",
       "      <td>34505043000</td>\n",
       "    </tr>\n",
       "    <tr>\n",
       "      <th>2</th>\n",
       "      <td>Air</td>\n",
       "      <td>32785147000</td>\n",
       "    </tr>\n",
       "  </tbody>\n",
       "</table>\n",
       "</div>"
      ],
      "text/plain": [
       "  Medio de Transporte  Valor Total\n",
       "0                 Sea  65592622000\n",
       "1                Rail  34505043000\n",
       "2                 Air  32785147000"
      ]
     },
     "execution_count": 9,
     "metadata": {},
     "output_type": "execute_result"
    }
   ],
   "source": [
    "'''Ahora se ordenan las listas de acuerdo con el valor de importaciones y exportaciones'''\n",
    "medio_imp.sort(reverse = True, key = lambda x:x[1])\n",
    "medio_exp.sort(reverse = True, key = lambda x:x[1])\n",
    "\n",
    "mte = pd.DataFrame(medio_exp, columns=['Medio de Transporte', 'Valor Total'])\n",
    "print(\"TRES MEDIOS DE TRANSPORTE MÁS IMPORTANTES EN EXPORTACIONES\")\n",
    "mte.head(3)"
   ]
  },
  {
   "cell_type": "code",
   "execution_count": 10,
   "metadata": {},
   "outputs": [
    {
     "name": "stdout",
     "output_type": "stream",
     "text": [
      "TRES MEDIOS DE TRANSPORTE MÁS IMPORTANTES EN IMPORTACIONES\n"
     ]
    },
    {
     "data": {
      "text/html": [
       "<div>\n",
       "<style scoped>\n",
       "    .dataframe tbody tr th:only-of-type {\n",
       "        vertical-align: middle;\n",
       "    }\n",
       "\n",
       "    .dataframe tbody tr th {\n",
       "        vertical-align: top;\n",
       "    }\n",
       "\n",
       "    .dataframe thead th {\n",
       "        text-align: right;\n",
       "    }\n",
       "</style>\n",
       "<table border=\"1\" class=\"dataframe\">\n",
       "  <thead>\n",
       "    <tr style=\"text-align: right;\">\n",
       "      <th></th>\n",
       "      <th>Medio de Transporte</th>\n",
       "      <th>Valor Total</th>\n",
       "    </tr>\n",
       "  </thead>\n",
       "  <tbody>\n",
       "    <tr>\n",
       "      <th>0</th>\n",
       "      <td>Sea</td>\n",
       "      <td>34938000000</td>\n",
       "    </tr>\n",
       "    <tr>\n",
       "      <th>1</th>\n",
       "      <td>Rail</td>\n",
       "      <td>9123000000</td>\n",
       "    </tr>\n",
       "    <tr>\n",
       "      <th>2</th>\n",
       "      <td>Road</td>\n",
       "      <td>5990000000</td>\n",
       "    </tr>\n",
       "  </tbody>\n",
       "</table>\n",
       "</div>"
      ],
      "text/plain": [
       "  Medio de Transporte  Valor Total\n",
       "0                 Sea  34938000000\n",
       "1                Rail   9123000000\n",
       "2                Road   5990000000"
      ]
     },
     "execution_count": 10,
     "metadata": {},
     "output_type": "execute_result"
    }
   ],
   "source": [
    "mti = pd.DataFrame(medio_imp, columns=['Medio de Transporte', 'Valor Total'])\n",
    "print(\"TRES MEDIOS DE TRANSPORTE MÁS IMPORTANTES EN IMPORTACIONES\")\n",
    "mti.head(3)"
   ]
  },
  {
   "cell_type": "markdown",
   "metadata": {},
   "source": [
    "**A continuación se crea una gráfica que muestre la cantidad de veces que fueron demandados los medios de transporte en importaciones y exportaciones**"
   ]
  },
  {
   "cell_type": "code",
   "execution_count": 11,
   "metadata": {},
   "outputs": [
    {
     "data": {
      "text/plain": [
       "<seaborn.axisgrid.FacetGrid at 0x22e0d51d280>"
      ]
     },
     "execution_count": 11,
     "metadata": {},
     "output_type": "execute_result"
    },
    {
     "data": {
      "image/png": "[encoded data removed]",
      "text/plain": [
       "<Figure size 447.125x360 with 1 Axes>"
      ]
     },
     "metadata": {
      "needs_background": "light"
     },
     "output_type": "display_data"
    }
   ],
   "source": [
    "sns.catplot('direction',data=base,hue='transport_mode',kind='count')"
   ]
  },
  {
   "cell_type": "markdown",
   "metadata": {},
   "source": [
    "*Nuevamente se observa que no están correlacionados las veces que se demanda un medio de transporte con los ingresos que éste genera*"
   ]
  },
  {
   "cell_type": "markdown",
   "metadata": {},
   "source": [
    "### ¿Cuál es medio de transporte que podrían reducir? \n",
    "\n",
    "* En exportaciones pueden reducir \"Road\" ya que es el que menos ingresos les genera.\n",
    "* En importaciones el que pueden reducir es \"Air\""
   ]
  },
  {
   "cell_type": "markdown",
   "metadata": {},
   "source": [
    "### *VALOR TOTAL DE IMPORTACIONES Y EXPORTACIONES*\n",
    "*Opción 3*"
   ]
  },
  {
   "cell_type": "code",
   "execution_count": 12,
   "metadata": {},
   "outputs": [],
   "source": [
    "'''Creando listas con el país de origen en exportaciones e importaciones'''\n",
    "origen_unicos_exp = list(mre[\"Origen\"].unique())\n",
    "origen_unicos_imp = list(mri[\"Origen\"].unique())\n",
    "\n",
    "'''se crean listas que contengan esos únicos países de origen con un valor numérico para posteriormente \n",
    "llenarlos'''\n",
    "paises_exp = [[pais,0] for pais in origen_unicos_exp]\n",
    "paises_imp = [[pais,0] for pais in origen_unicos_imp]\n",
    "\n",
    "'''Los siguientes bucles for acumulan los valores totales obtenidos en importaciones y exportaciones para cada país'''\n",
    "for pais in origen_unicos_exp:\n",
    "    for lista in exportaciones:\n",
    "        if lista[0] == pais:\n",
    "            paises_exp[origen_unicos_exp.index(pais)][1] += lista[4]\n",
    "\n",
    "for pais in origen_unicos_imp:\n",
    "    for lista in importaciones:\n",
    "        if lista[0] == pais:\n",
    "            paises_imp[origen_unicos_imp.index(pais)][1] += lista[4]\n"
   ]
  },
  {
   "cell_type": "code",
   "execution_count": 13,
   "metadata": {},
   "outputs": [],
   "source": [
    "'''Ahora se ordenan las listas de acuerdo con el valor total en importaciones y exportaciones'''\n",
    "paises_exp.sort(reverse = True, key = lambda x:x[1])\n",
    "paises_imp.sort(reverse = True, key = lambda x:x[1])\n"
   ]
  },
  {
   "cell_type": "code",
   "execution_count": 14,
   "metadata": {},
   "outputs": [],
   "source": [
    "'''Se obtiene el 80% del total de exportaciones y de importaciones para obtener los países que lo generan'''\n",
    "ochenta_e = sum([e[1] for e in paises_exp])*0.8\n",
    "ochenta_i = sum([i[1] for i in paises_imp])*0.8\n",
    "\n",
    "'''Se crean listas que guardarán a los países que generan ese 80%'''\n",
    "ochenta_exp = []\n",
    "ochenta_imp = []\n",
    "te = 0  #estas variables son para ir acumulando el valor de los totales por iteración\n",
    "ti = 0\n",
    "\n",
    "for totales in paises_exp:\n",
    "    te+= totales[1]\n",
    "    if te <= ochenta_e:\n",
    "        ochenta_exp.append(totales)\n",
    "        \n",
    "for totales in paises_imp:\n",
    "    ti+= totales[1]\n",
    "    if ti <= ochenta_i:\n",
    "        ochenta_imp.append(totales)      \n"
   ]
  },
  {
   "cell_type": "code",
   "execution_count": 15,
   "metadata": {},
   "outputs": [
    {
     "name": "stdout",
     "output_type": "stream",
     "text": [
      "PAISES QUE CONFORMAN EL 80% DE LAS EXPORTACIONES\n"
     ]
    },
    {
     "data": {
      "text/html": [
       "<div>\n",
       "<style scoped>\n",
       "    .dataframe tbody tr th:only-of-type {\n",
       "        vertical-align: middle;\n",
       "    }\n",
       "\n",
       "    .dataframe tbody tr th {\n",
       "        vertical-align: top;\n",
       "    }\n",
       "\n",
       "    .dataframe thead th {\n",
       "        text-align: right;\n",
       "    }\n",
       "</style>\n",
       "<table border=\"1\" class=\"dataframe\">\n",
       "  <thead>\n",
       "    <tr style=\"text-align: right;\">\n",
       "      <th></th>\n",
       "      <th>País</th>\n",
       "      <th>Valor Total</th>\n",
       "    </tr>\n",
       "  </thead>\n",
       "  <tbody>\n",
       "    <tr>\n",
       "      <th>0</th>\n",
       "      <td>China</td>\n",
       "      <td>32977046000</td>\n",
       "    </tr>\n",
       "    <tr>\n",
       "      <th>1</th>\n",
       "      <td>France</td>\n",
       "      <td>18614332000</td>\n",
       "    </tr>\n",
       "    <tr>\n",
       "      <th>2</th>\n",
       "      <td>USA</td>\n",
       "      <td>18355306000</td>\n",
       "    </tr>\n",
       "    <tr>\n",
       "      <th>3</th>\n",
       "      <td>South Korea</td>\n",
       "      <td>14621146000</td>\n",
       "    </tr>\n",
       "    <tr>\n",
       "      <th>4</th>\n",
       "      <td>Russia</td>\n",
       "      <td>13223000000</td>\n",
       "    </tr>\n",
       "    <tr>\n",
       "      <th>5</th>\n",
       "      <td>Japan</td>\n",
       "      <td>11948976000</td>\n",
       "    </tr>\n",
       "    <tr>\n",
       "      <th>6</th>\n",
       "      <td>Germany</td>\n",
       "      <td>11343233000</td>\n",
       "    </tr>\n",
       "  </tbody>\n",
       "</table>\n",
       "</div>"
      ],
      "text/plain": [
       "          País  Valor Total\n",
       "0        China  32977046000\n",
       "1       France  18614332000\n",
       "2          USA  18355306000\n",
       "3  South Korea  14621146000\n",
       "4       Russia  13223000000\n",
       "5        Japan  11948976000\n",
       "6      Germany  11343233000"
      ]
     },
     "execution_count": 15,
     "metadata": {},
     "output_type": "execute_result"
    }
   ],
   "source": [
    "oe = pd.DataFrame(ochenta_exp, columns=['País', 'Valor Total'])\n",
    "print(\"PAISES QUE CONFORMAN EL 80% DE LAS EXPORTACIONES\")\n",
    "oe"
   ]
  },
  {
   "cell_type": "code",
   "execution_count": 16,
   "metadata": {},
   "outputs": [
    {
     "name": "stdout",
     "output_type": "stream",
     "text": [
      "PAISES QUE CONFORMAN EL 80% DE LAS IMPORTACIONES\n"
     ]
    },
    {
     "data": {
      "text/html": [
       "<div>\n",
       "<style scoped>\n",
       "    .dataframe tbody tr th:only-of-type {\n",
       "        vertical-align: middle;\n",
       "    }\n",
       "\n",
       "    .dataframe tbody tr th {\n",
       "        vertical-align: top;\n",
       "    }\n",
       "\n",
       "    .dataframe thead th {\n",
       "        text-align: right;\n",
       "    }\n",
       "</style>\n",
       "<table border=\"1\" class=\"dataframe\">\n",
       "  <thead>\n",
       "    <tr style=\"text-align: right;\">\n",
       "      <th></th>\n",
       "      <th>País</th>\n",
       "      <th>Valor Total</th>\n",
       "    </tr>\n",
       "  </thead>\n",
       "  <tbody>\n",
       "    <tr>\n",
       "      <th>0</th>\n",
       "      <td>China</td>\n",
       "      <td>12233000000</td>\n",
       "    </tr>\n",
       "    <tr>\n",
       "      <th>1</th>\n",
       "      <td>Japan</td>\n",
       "      <td>8094000000</td>\n",
       "    </tr>\n",
       "    <tr>\n",
       "      <th>2</th>\n",
       "      <td>USA</td>\n",
       "      <td>5291000000</td>\n",
       "    </tr>\n",
       "    <tr>\n",
       "      <th>3</th>\n",
       "      <td>Mexico</td>\n",
       "      <td>4621000000</td>\n",
       "    </tr>\n",
       "    <tr>\n",
       "      <th>4</th>\n",
       "      <td>Germany</td>\n",
       "      <td>4250000000</td>\n",
       "    </tr>\n",
       "    <tr>\n",
       "      <th>5</th>\n",
       "      <td>Singapore</td>\n",
       "      <td>4017000000</td>\n",
       "    </tr>\n",
       "    <tr>\n",
       "      <th>6</th>\n",
       "      <td>South Korea</td>\n",
       "      <td>3889000000</td>\n",
       "    </tr>\n",
       "  </tbody>\n",
       "</table>\n",
       "</div>"
      ],
      "text/plain": [
       "          País  Valor Total\n",
       "0        China  12233000000\n",
       "1        Japan   8094000000\n",
       "2          USA   5291000000\n",
       "3       Mexico   4621000000\n",
       "4      Germany   4250000000\n",
       "5    Singapore   4017000000\n",
       "6  South Korea   3889000000"
      ]
     },
     "execution_count": 16,
     "metadata": {},
     "output_type": "execute_result"
    }
   ],
   "source": [
    "oi = pd.DataFrame(ochenta_imp, columns=['País', 'Valor Total'])\n",
    "print(\"PAISES QUE CONFORMAN EL 80% DE LAS IMPORTACIONES\")\n",
    "oi"
   ]
  },
  {
   "cell_type": "markdown",
   "metadata": {},
   "source": [
    "**Nuevamente se crean gráficas**"
   ]
  },
  {
   "cell_type": "code",
   "execution_count": 17,
   "metadata": {},
   "outputs": [
    {
     "data": {
      "image/png": "[encoded data removed]",
      "text/plain": [
       "<Figure size 360x360 with 1 Axes>"
      ]
     },
     "metadata": {},
     "output_type": "display_data"
    }
   ],
   "source": [
    "colores=[\"#003EBA\",\"#514FC4\",\"#8F33BD\",\"#B940BF\",\"#E70DAB\",\"#FC4068\",\"#FFBA05\"]\n",
    "fig, ax = plt.subplots(figsize =(5, 5))\n",
    "plt.pie(oe['Valor Total'], labels= oe['País'], autopct = \" %0.1f %% \",colors=colores)\n",
    "plt.show()"
   ]
  },
  {
   "cell_type": "markdown",
   "metadata": {},
   "source": [
    "*En las exportaciones China es el que más ingresos genera y entre los demás países la variación no es mucha*"
   ]
  },
  {
   "cell_type": "code",
   "execution_count": 18,
   "metadata": {},
   "outputs": [
    {
     "data": {
      "image/png": "[encoded data removed]",
      "text/plain": [
       "<Figure size 360x360 with 1 Axes>"
      ]
     },
     "metadata": {},
     "output_type": "display_data"
    }
   ],
   "source": [
    "colores=[\"#003EBA\",\"#514FC4\",\"#8F33BD\",\"#B940BF\",\"#E70DAB\",\"#FC4068\",\"#FFBA05\"]\n",
    "fig, ax = plt.subplots(figsize =(5, 5))\n",
    "plt.pie(oi['Valor Total'], labels= oi['País'], autopct = \" %0.1f %% \",colors=colores)\n",
    "plt.show()"
   ]
  },
  {
   "cell_type": "markdown",
   "metadata": {},
   "source": [
    "*En las importaciones China nuevamente es el que genera mayores ingresos, sin embargo Japón sobresale también del resto del grupo de países*"
   ]
  },
  {
   "cell_type": "markdown",
   "metadata": {},
   "source": [
    "### ¿En qué grupo de países debería enfocar sus esfuerzos?\n",
    "\n",
    "*Los grupos de países en los que debe enfocarse están impresos en las tablas y gráficas anteriores*"
   ]
  },
  {
   "cell_type": "markdown",
   "metadata": {},
   "source": [
    "### Opción sugerida como base de la estrategia de Synergy logistics\n",
    "\n",
    "*Dados los resultados anteriores, si la empresa quiere considerar enfocarse en rutas tendría que ser mirando cuáles son las que generan más ingresos y no cuáles son las más demandadas, luego podría aplicarse el 80% como en el último punto y de ahí partir a hacer un análisis sobre los medios de transporte más utilizados en esas rutas para saber a cuáles invertirles más.*\n",
    "\n",
    "*Considerando las opciones que la empresa quiso que fueran analizadas, le conviene más implementar como base en la estrategia la 2 y 3, ya que la dos muestra cuáles son los medios de transporte que más ingresos le generan y la 3 muestra cuáles son los países que involucran el 80% de sus ingresos.*"
   ]
  },
  {
   "cell_type": "markdown",
   "metadata": {},
   "source": [
    "### *CONCLUSIONES*\n",
    "\n",
    "Es importante aprovechar al máximo los recursos que se tienen, por lo tanto, crear estrategias para administrarlos mejor es una de las decisiones más sabias que se pueden tomar. \n",
    "\n",
    "En cuanto al curso, con los aprendizajes alcanzados ya se pueden hacer análisis más elaborados y fue demasiado interesante aprender más de lo que abarcaba el temario."
   ]
  }
 ],
 "metadata": {
  "kernelspec": {
   "display_name": "Python 3",
   "language": "python",
   "name": "python3"
  },
  "language_info": {
   "codemirror_mode": {
    "name": "ipython",
    "version": 3
   },
   "file_extension": ".py",
   "mimetype": "text/x-python",
   "name": "python",
   "nbconvert_exporter": "python",
   "pygments_lexer": "ipython3",
   "version": "3.8.3"
  }
 },
 "nbformat": 4,
 "nbformat_minor": 4
}
